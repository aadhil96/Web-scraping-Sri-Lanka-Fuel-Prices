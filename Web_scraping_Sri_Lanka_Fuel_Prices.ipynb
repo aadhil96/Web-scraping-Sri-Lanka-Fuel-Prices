{
  "nbformat": 4,
  "nbformat_minor": 0,
  "metadata": {
    "colab": {
      "name": "Web scraping Sri Lanka Fuel Prices",
      "provenance": [],
      "collapsed_sections": [],
      "authorship_tag": "ABX9TyPYPkH7hIQWz7vMe565y9/N",
      "include_colab_link": true
    },
    "kernelspec": {
      "name": "python3",
      "display_name": "Python 3"
    }
  },
  "cells": [
    {
      "cell_type": "markdown",
      "metadata": {
        "id": "view-in-github",
        "colab_type": "text"
      },
      "source": [
        "<a href=\"https://colab.research.google.com/github/aadhil96/Web-scraping-Sri-Lanka-Fuel-Prices/blob/main/Web_scraping_Sri_Lanka_Fuel_Prices.ipynb\" target=\"_parent\"><img src=\"https://colab.research.google.com/assets/colab-badge.svg\" alt=\"Open In Colab\"/></a>"
      ]
    },
    {
      "cell_type": "code",
      "metadata": {
        "colab": {
          "base_uri": "https://localhost:8080/",
          "height": 36
        },
        "id": "P1_WQAtLZaMq",
        "outputId": "fd0b00e8-64a2-4ccb-a3bb-6e852d987a99"
      },
      "source": [
        "# The Building Blocks\r\n",
        "#year = '2019'\r\n",
        "url_link = 'http://ceypetco.gov.lk/historical-prices/'\r\n",
        "\r\n",
        "# Combining the URL + year strings together\r\n",
        "#url = url_link.format(year)\r\n",
        "url_link"
      ],
      "execution_count": 1,
      "outputs": [
        {
          "output_type": "execute_result",
          "data": {
            "application/vnd.google.colaboratory.intrinsic+json": {
              "type": "string"
            },
            "text/plain": [
              "'http://ceypetco.gov.lk/historical-prices/'"
            ]
          },
          "metadata": {
            "tags": []
          },
          "execution_count": 1
        }
      ]
    },
    {
      "cell_type": "code",
      "metadata": {
        "id": "xxDDcPF3ZuDQ"
      },
      "source": [
        "import pandas as pd"
      ],
      "execution_count": 2,
      "outputs": []
    },
    {
      "cell_type": "code",
      "metadata": {
        "id": "EPi_VckOZwXw"
      },
      "source": [
        "df = pd.read_html(url_link, header = 0)\r\n",
        "petrol_prices = df[0]"
      ],
      "execution_count": 3,
      "outputs": []
    },
    {
      "cell_type": "code",
      "metadata": {
        "colab": {
          "base_uri": "https://localhost:8080/",
          "height": 206
        },
        "id": "MzSxHIQMbaUV",
        "outputId": "7da61c9d-4b9b-46fd-d07c-490bf6f98e85"
      },
      "source": [
        "petrol_prices.head()"
      ],
      "execution_count": 4,
      "outputs": [
        {
          "output_type": "execute_result",
          "data": {
            "text/html": [
              "<div>\n",
              "<style scoped>\n",
              "    .dataframe tbody tr th:only-of-type {\n",
              "        vertical-align: middle;\n",
              "    }\n",
              "\n",
              "    .dataframe tbody tr th {\n",
              "        vertical-align: top;\n",
              "    }\n",
              "\n",
              "    .dataframe thead th {\n",
              "        text-align: right;\n",
              "    }\n",
              "</style>\n",
              "<table border=\"1\" class=\"dataframe\">\n",
              "  <thead>\n",
              "    <tr style=\"text-align: right;\">\n",
              "      <th></th>\n",
              "      <th>Date of Effective</th>\n",
              "      <th>LP 95</th>\n",
              "      <th>LP 92</th>\n",
              "      <th>LAD</th>\n",
              "      <th>LSD</th>\n",
              "      <th>LK</th>\n",
              "      <th>LIK</th>\n",
              "      <th>FUR.800</th>\n",
              "      <th>FUR.(sup)</th>\n",
              "      <th>FUR.1500</th>\n",
              "    </tr>\n",
              "  </thead>\n",
              "  <tbody>\n",
              "    <tr>\n",
              "      <th>0</th>\n",
              "      <td>01.03.1990</td>\n",
              "      <td>22.00</td>\n",
              "      <td>20.00</td>\n",
              "      <td>9.60</td>\n",
              "      <td>10.90</td>\n",
              "      <td>6.58</td>\n",
              "      <td>9.85</td>\n",
              "      <td>4.70</td>\n",
              "      <td>NaN</td>\n",
              "      <td>4.29</td>\n",
              "    </tr>\n",
              "    <tr>\n",
              "      <th>1</th>\n",
              "      <td>14.08.1990</td>\n",
              "      <td>27.00</td>\n",
              "      <td>25.00</td>\n",
              "      <td>11.00</td>\n",
              "      <td>12.50</td>\n",
              "      <td>8.00</td>\n",
              "      <td>9.85</td>\n",
              "      <td>5.40</td>\n",
              "      <td>NaN</td>\n",
              "      <td>4.90</td>\n",
              "    </tr>\n",
              "    <tr>\n",
              "      <th>2</th>\n",
              "      <td>05.11.1990</td>\n",
              "      <td>38.00</td>\n",
              "      <td>35.00</td>\n",
              "      <td>13.00</td>\n",
              "      <td>15.00</td>\n",
              "      <td>8.80</td>\n",
              "      <td>9.85</td>\n",
              "      <td>6.30</td>\n",
              "      <td>NaN</td>\n",
              "      <td>5.60</td>\n",
              "    </tr>\n",
              "    <tr>\n",
              "      <th>3</th>\n",
              "      <td>26.12.1990</td>\n",
              "      <td>32.50</td>\n",
              "      <td>30.00</td>\n",
              "      <td>11.00</td>\n",
              "      <td>13.00</td>\n",
              "      <td>8.80</td>\n",
              "      <td>9.85</td>\n",
              "      <td>6.30</td>\n",
              "      <td>NaN</td>\n",
              "      <td>5.60</td>\n",
              "    </tr>\n",
              "    <tr>\n",
              "      <th>4</th>\n",
              "      <td>01.01.1991</td>\n",
              "      <td>32.50</td>\n",
              "      <td>30.00</td>\n",
              "      <td>11.00</td>\n",
              "      <td>13.00</td>\n",
              "      <td>8.80</td>\n",
              "      <td>9.85</td>\n",
              "      <td>6.25</td>\n",
              "      <td>NaN</td>\n",
              "      <td>5.55</td>\n",
              "    </tr>\n",
              "  </tbody>\n",
              "</table>\n",
              "</div>"
            ],
            "text/plain": [
              "  Date of Effective  LP 95  LP 92    LAD  ...   LIK FUR.800 FUR.(sup) FUR.1500\n",
              "0        01.03.1990  22.00  20.00   9.60  ...  9.85    4.70       NaN     4.29\n",
              "1        14.08.1990  27.00  25.00  11.00  ...  9.85    5.40       NaN     4.90\n",
              "2        05.11.1990  38.00  35.00  13.00  ...  9.85    6.30       NaN     5.60\n",
              "3        26.12.1990  32.50  30.00  11.00  ...  9.85    6.30       NaN     5.60\n",
              "4        01.01.1991  32.50  30.00  11.00  ...  9.85    6.25       NaN     5.55\n",
              "\n",
              "[5 rows x 10 columns]"
            ]
          },
          "metadata": {
            "tags": []
          },
          "execution_count": 4
        }
      ]
    },
    {
      "cell_type": "code",
      "metadata": {
        "colab": {
          "base_uri": "https://localhost:8080/",
          "height": 206
        },
        "id": "jK3QuUtJbbfO",
        "outputId": "6f5baf6e-1e65-4289-df8d-8b1044fc6f92"
      },
      "source": [
        "petrol_prices.tail()"
      ],
      "execution_count": 5,
      "outputs": [
        {
          "output_type": "execute_result",
          "data": {
            "text/html": [
              "<div>\n",
              "<style scoped>\n",
              "    .dataframe tbody tr th:only-of-type {\n",
              "        vertical-align: middle;\n",
              "    }\n",
              "\n",
              "    .dataframe tbody tr th {\n",
              "        vertical-align: top;\n",
              "    }\n",
              "\n",
              "    .dataframe thead th {\n",
              "        text-align: right;\n",
              "    }\n",
              "</style>\n",
              "<table border=\"1\" class=\"dataframe\">\n",
              "  <thead>\n",
              "    <tr style=\"text-align: right;\">\n",
              "      <th></th>\n",
              "      <th>Date of Effective</th>\n",
              "      <th>LP 95</th>\n",
              "      <th>LP 92</th>\n",
              "      <th>LAD</th>\n",
              "      <th>LSD</th>\n",
              "      <th>LK</th>\n",
              "      <th>LIK</th>\n",
              "      <th>FUR.800</th>\n",
              "      <th>FUR.(sup)</th>\n",
              "      <th>FUR.1500</th>\n",
              "    </tr>\n",
              "  </thead>\n",
              "  <tbody>\n",
              "    <tr>\n",
              "      <th>107</th>\n",
              "      <td>11.06.2019</td>\n",
              "      <td>164.00</td>\n",
              "      <td>138.00</td>\n",
              "      <td>104.00</td>\n",
              "      <td>136.00</td>\n",
              "      <td>70.00</td>\n",
              "      <td>110.00</td>\n",
              "      <td>92.00</td>\n",
              "      <td>96.00</td>\n",
              "      <td>96.00</td>\n",
              "    </tr>\n",
              "    <tr>\n",
              "      <th>108</th>\n",
              "      <td>11.07.2019</td>\n",
              "      <td>159.00</td>\n",
              "      <td>136.00</td>\n",
              "      <td>104.00</td>\n",
              "      <td>131.00</td>\n",
              "      <td>70.00</td>\n",
              "      <td>110.00</td>\n",
              "      <td>92.00</td>\n",
              "      <td>96.00</td>\n",
              "      <td>96.00</td>\n",
              "    </tr>\n",
              "    <tr>\n",
              "      <th>109</th>\n",
              "      <td>13.08.2019</td>\n",
              "      <td>163.00</td>\n",
              "      <td>138.00</td>\n",
              "      <td>104.00</td>\n",
              "      <td>134.00</td>\n",
              "      <td>70.00</td>\n",
              "      <td>110.00</td>\n",
              "      <td>00.00</td>\n",
              "      <td>96.00</td>\n",
              "      <td>96.00</td>\n",
              "    </tr>\n",
              "    <tr>\n",
              "      <th>110</th>\n",
              "      <td>10.09.2019</td>\n",
              "      <td>161.00</td>\n",
              "      <td>137.00</td>\n",
              "      <td>104.00</td>\n",
              "      <td>132.00</td>\n",
              "      <td>70.00</td>\n",
              "      <td>110.00</td>\n",
              "      <td>00.00</td>\n",
              "      <td>96.00</td>\n",
              "      <td>96.00</td>\n",
              "    </tr>\n",
              "    <tr>\n",
              "      <th>111</th>\n",
              "      <td>Date of Effective</td>\n",
              "      <td>LP 95</td>\n",
              "      <td>LP 92</td>\n",
              "      <td>LAD</td>\n",
              "      <td>LSD</td>\n",
              "      <td>LK</td>\n",
              "      <td>LIK</td>\n",
              "      <td>FUR.800</td>\n",
              "      <td>FUR.(sup)</td>\n",
              "      <td>FUR.1500</td>\n",
              "    </tr>\n",
              "  </tbody>\n",
              "</table>\n",
              "</div>"
            ],
            "text/plain": [
              "     Date of Effective   LP 95   LP 92  ...  FUR.800  FUR.(sup)  FUR.1500\n",
              "107         11.06.2019  164.00  138.00  ...    92.00      96.00     96.00\n",
              "108         11.07.2019  159.00  136.00  ...    92.00      96.00     96.00\n",
              "109         13.08.2019  163.00  138.00  ...    00.00      96.00     96.00\n",
              "110         10.09.2019  161.00  137.00  ...    00.00      96.00     96.00\n",
              "111  Date of Effective   LP 95   LP 92  ...  FUR.800  FUR.(sup)  FUR.1500\n",
              "\n",
              "[5 rows x 10 columns]"
            ]
          },
          "metadata": {
            "tags": []
          },
          "execution_count": 5
        }
      ]
    },
    {
      "cell_type": "code",
      "metadata": {
        "id": "pYkGlfyDj0k7"
      },
      "source": [
        "petrol_prices = petrol_prices.drop(petrol_prices.index[111])"
      ],
      "execution_count": 6,
      "outputs": []
    },
    {
      "cell_type": "code",
      "metadata": {
        "colab": {
          "base_uri": "https://localhost:8080/"
        },
        "id": "aIqm1jiYbm8s",
        "outputId": "d1ed1807-fa7d-4352-f9af-5bb262666f9f"
      },
      "source": [
        "petrol_prices.shape"
      ],
      "execution_count": 7,
      "outputs": [
        {
          "output_type": "execute_result",
          "data": {
            "text/plain": [
              "(111, 10)"
            ]
          },
          "metadata": {
            "tags": []
          },
          "execution_count": 7
        }
      ]
    },
    {
      "cell_type": "code",
      "metadata": {
        "id": "powGjxB4voD_"
      },
      "source": [
        "petrol_prices.to_csv(r'sl_petrol_prices.csv')"
      ],
      "execution_count": 18,
      "outputs": []
    },
    {
      "cell_type": "code",
      "metadata": {
        "colab": {
          "base_uri": "https://localhost:8080/"
        },
        "id": "gN1StaNgboPI",
        "outputId": "0e720db0-dbd9-43dd-d644-3559a32bcb05"
      },
      "source": [
        "petrol_prices.isnull().sum()"
      ],
      "execution_count": 8,
      "outputs": [
        {
          "output_type": "execute_result",
          "data": {
            "text/plain": [
              "Date of Effective     0\n",
              "LP 95                 0\n",
              "LP 92                 0\n",
              "LAD                   0\n",
              "LSD                   0\n",
              "LK                    0\n",
              "LIK                   0\n",
              "FUR.800               0\n",
              "FUR.(sup)            87\n",
              "FUR.1500              9\n",
              "dtype: int64"
            ]
          },
          "metadata": {
            "tags": []
          },
          "execution_count": 8
        }
      ]
    },
    {
      "cell_type": "code",
      "metadata": {
        "colab": {
          "base_uri": "https://localhost:8080/"
        },
        "id": "uVyJzo5TgXsO",
        "outputId": "3cfe5986-7e7f-4fc0-ba4b-e470c9a9aa7d"
      },
      "source": [
        "petrol_prices.dtypes"
      ],
      "execution_count": 9,
      "outputs": [
        {
          "output_type": "execute_result",
          "data": {
            "text/plain": [
              "Date of Effective    object\n",
              "LP 95                object\n",
              "LP 92                object\n",
              "LAD                  object\n",
              "LSD                  object\n",
              "LK                   object\n",
              "LIK                  object\n",
              "FUR.800              object\n",
              "FUR.(sup)            object\n",
              "FUR.1500             object\n",
              "dtype: object"
            ]
          },
          "metadata": {
            "tags": []
          },
          "execution_count": 9
        }
      ]
    },
    {
      "cell_type": "code",
      "metadata": {
        "id": "9Qi7nvBWgeHl"
      },
      "source": [
        "petrol_prices = petrol_prices.rename(columns={\"Date of Effective\": \"Date\", \"LP 95\": \"LP95\" , \"LP 92\": \"LP92\"})"
      ],
      "execution_count": 10,
      "outputs": []
    },
    {
      "cell_type": "code",
      "metadata": {
        "id": "zbIpzcmng8ad"
      },
      "source": [
        "petrol_prices['LP95'] = pd.to_numeric(petrol_prices['LP95'],errors='coerce')\r\n",
        "petrol_prices['LP92'] = pd.to_numeric(petrol_prices['LP92'],errors='coerce')"
      ],
      "execution_count": 11,
      "outputs": []
    },
    {
      "cell_type": "code",
      "metadata": {
        "colab": {
          "base_uri": "https://localhost:8080/"
        },
        "id": "mFtlrNkYh6TD",
        "outputId": "d19b6bdf-c102-4698-9991-fad8929bf5ab"
      },
      "source": [
        "petrol_prices.dtypes"
      ],
      "execution_count": 12,
      "outputs": [
        {
          "output_type": "execute_result",
          "data": {
            "text/plain": [
              "Date          object\n",
              "LP95         float64\n",
              "LP92         float64\n",
              "LAD           object\n",
              "LSD           object\n",
              "LK            object\n",
              "LIK           object\n",
              "FUR.800       object\n",
              "FUR.(sup)     object\n",
              "FUR.1500      object\n",
              "dtype: object"
            ]
          },
          "metadata": {
            "tags": []
          },
          "execution_count": 12
        }
      ]
    },
    {
      "cell_type": "code",
      "metadata": {
        "id": "3Sgn6oMyjokY"
      },
      "source": [
        "petrol_prices['Date'] = pd.to_datetime(petrol_prices['Date'])"
      ],
      "execution_count": 13,
      "outputs": []
    },
    {
      "cell_type": "code",
      "metadata": {
        "colab": {
          "base_uri": "https://localhost:8080/"
        },
        "id": "1sdOR3TIjq-d",
        "outputId": "4d388769-5f29-40d8-ccf7-d9d5201b315d"
      },
      "source": [
        "petrol_prices.dtypes"
      ],
      "execution_count": 14,
      "outputs": [
        {
          "output_type": "execute_result",
          "data": {
            "text/plain": [
              "Date         datetime64[ns]\n",
              "LP95                float64\n",
              "LP92                float64\n",
              "LAD                  object\n",
              "LSD                  object\n",
              "LK                   object\n",
              "LIK                  object\n",
              "FUR.800              object\n",
              "FUR.(sup)            object\n",
              "FUR.1500             object\n",
              "dtype: object"
            ]
          },
          "metadata": {
            "tags": []
          },
          "execution_count": 14
        }
      ]
    },
    {
      "cell_type": "code",
      "metadata": {
        "id": "LcggTHLWlimO"
      },
      "source": [
        ""
      ],
      "execution_count": 14,
      "outputs": []
    },
    {
      "cell_type": "code",
      "metadata": {
        "id": "4BkViETBmQi9"
      },
      "source": [
        ""
      ],
      "execution_count": 14,
      "outputs": []
    },
    {
      "cell_type": "code",
      "metadata": {
        "colab": {
          "base_uri": "https://localhost:8080/",
          "height": 406
        },
        "id": "-So-Nva7j52l",
        "outputId": "f3461148-f7ff-48ff-88d0-9646a808b50f"
      },
      "source": [
        "import seaborn as sns\r\n",
        "import matplotlib.pyplot as plt\r\n",
        "\r\n",
        "plt.figure(figsize=(18,6))\r\n",
        "sns.lineplot(x ='Date' , y='LP95' , data = petrol_prices , label='LP 95')\r\n",
        "sns.lineplot(x ='Date' , y='LP92' , data = petrol_prices , label='LP 92')\r\n",
        "plt.legend()"
      ],
      "execution_count": 15,
      "outputs": [
        {
          "output_type": "execute_result",
          "data": {
            "text/plain": [
              "<matplotlib.legend.Legend at 0x7f3174c74790>"
            ]
          },
          "metadata": {
            "tags": []
          },
          "execution_count": 15
        },
        {
          "output_type": "display_data",
          "data": {
            "image/png": "[encoded data removed]",
            "text/plain": [
              "<Figure size 1296x432 with 1 Axes>"
            ]
          },
          "metadata": {
            "tags": [],
            "needs_background": "light"
          }
        }
      ]
    },
    {
      "cell_type": "code",
      "metadata": {
        "colab": {
          "base_uri": "https://localhost:8080/",
          "height": 463
        },
        "id": "aUXvXL1nkTzP",
        "outputId": "99cda678-86eb-4776-9155-0d08974893f9"
      },
      "source": [
        "plt.figure(figsize=(10,6))\r\n",
        "sns.distplot(petrol_prices.LP95)"
      ],
      "execution_count": 16,
      "outputs": [
        {
          "output_type": "stream",
          "text": [
            "/usr/local/lib/python3.7/dist-packages/seaborn/distributions.py:2557: FutureWarning: `distplot` is a deprecated function and will be removed in a future version. Please adapt your code to use either `displot` (a figure-level function with similar flexibility) or `histplot` (an axes-level function for histograms).\n",
            "  warnings.warn(msg, FutureWarning)\n"
          ],
          "name": "stderr"
        },
        {
          "output_type": "execute_result",
          "data": {
            "text/plain": [
              "<matplotlib.axes._subplots.AxesSubplot at 0x7f3174b4c9d0>"
            ]
          },
          "metadata": {
            "tags": []
          },
          "execution_count": 16
        },
        {
          "output_type": "display_data",
          "data": {
            "image/png": "[encoded data removed]",
            "text/plain": [
              "<Figure size 720x432 with 1 Axes>"
            ]
          },
          "metadata": {
            "tags": [],
            "needs_background": "light"
          }
        }
      ]
    },
    {
      "cell_type": "code",
      "metadata": {
        "colab": {
          "base_uri": "https://localhost:8080/",
          "height": 279
        },
        "id": "T02NUtxmmRPY",
        "outputId": "b42409e2-8c83-48bf-a2cb-4b99f3aa42e0"
      },
      "source": [
        "sns.kdeplot(petrol_prices['LP95'],shade=True)\r\n",
        "plt.show() "
      ],
      "execution_count": 17,
      "outputs": [
        {
          "output_type": "display_data",
          "data": {
            "image/png": "[encoded data removed]",
            "text/plain": [
              "<Figure size 432x288 with 1 Axes>"
            ]
          },
          "metadata": {
            "tags": [],
            "needs_background": "light"
          }
        }
      ]
    }
  ]
}